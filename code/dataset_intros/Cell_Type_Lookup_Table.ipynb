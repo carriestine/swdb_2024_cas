{
 "cells": [
  {
   "cell_type": "markdown",
   "id": "7957042e-89e9-4cf6-a25e-3b715f0d9ae3",
   "metadata": {},
   "source": [
    "![Image](resources/banner.jpg)\n",
    "\n",
    "<h1 align=\"center\">Cell Type Lookup Table </h1> \n",
    "<h2 align=\"center\"> Day 1, Morning Session. SWDB 2024 </h2> \n",
    "\n",
    "<h3 align=\"center\">Monday, August 19, 2023</h3> "
   ]
  },
  {
   "cell_type": "markdown",
   "id": "b29c57be-d224-449d-b67c-e956c1a5b152",
   "metadata": {},
   "source": [
    "<div style=\"border-left: 3px solid #000; padding: 1px; padding-left: 10px; background: #F0FAFF; \">\n",
    "   \n",
    "This notebook provides examples of how to load, examine, and visualize electrophysiological data containing several known cell types. This data comes from the Cell Type Lookup Table dataset, which contains **extracallular electrophysiological** data with specific cell types identified via **optotagging**. This data set in particular was recorded from the striatum, looking at the responses of D1, D2, and cholinergic neurons. Every session has two of these three cell types tagged.\n",
    "\n",
    "</div>"
   ]
  },
  {
   "cell_type": "markdown",
   "id": "9f850b77-97b2-4895-ad31-4731ff1c3260",
   "metadata": {},
   "source": [
    "<div style=\"border-left: 3px solid #000; padding: 1px; padding-left: 10px; background: #F0FAFF; \">\n",
    "   \n",
    "***What kind of questions can you answer with this dataset?***\n",
    "\n",
    "This dataset contains recordings of activity from known and identified cell types. In particular, every session contains two different, simultaneously tagged cell types. This makes it suitable for a variety of circuit architecture and connectivity questions.\n",
    "\n",
    "- How are stimuli and features from the external world encoded in neural responses? How do the encoding properties differ across cell types?\n",
    "- Are different cell types differentially predictive of behavior?\n",
    "- Do different cell types show different levels of connectivity between each other and other cell types?\n",
    "- How do neurons within and across cell types coordinate their activity? \n",
    "- Is neural information differentially stored by cell type?\n",
    "\n",
    "These are just some of the questions that might be addressed from this type of data.  \n",
    "\n",
    "</div>"
   ]
  },
  {
   "cell_type": "code",
   "execution_count": null,
   "id": "12b9abfb-1b77-4da3-b114-a4ac2b4dbd9f",
   "metadata": {
    "tags": []
   },
   "outputs": [],
   "source": [
    "from hdmf_zarr import NWBZarrIO\n",
    "import os, platform"
   ]
  },
  {
   "cell_type": "markdown",
   "id": "365c7d65-fb1d-4ab6-858d-ee482c570bb0",
   "metadata": {},
   "source": [
    "<div style=\"border-left: 3px solid #000; padding: 1px; padding-left: 10px; background: #F0FAFF; \">\n",
    "   \n",
    "Unlike other Allen Institute datasets, we interact with these NWBs files directly rather than through the SDK. We will be using `hdmf_zarr` to interact with this dataset. See https://allenswdb.github.io/physiology/pyNWB/pyNWB.html for more details.\n",
    "\n",
    "</div>"
   ]
  },
  {
   "cell_type": "markdown",
   "id": "5d94521b-0277-4521-b97e-fb997e65ec6f",
   "metadata": {},
   "source": [
    "<div style=\"border-left: 3px solid #000; padding: 1px; padding-left: 10px; background: #F0FAFF; \">\n",
    "   \n",
    "## Load an NWB\n",
    "\n",
    "</div>"
   ]
  },
  {
   "cell_type": "markdown",
   "id": "106c9cef-8f34-48fb-8f59-ca595a4d4a8c",
   "metadata": {},
   "source": [
    "<div style=\"border-left: 3px solid #000; padding: 1px; padding-left: 10px; background: #F0FAFF; \">\n",
    "   \n",
    "Let's try loading and exploring one session's worth of data.\n",
    "\n",
    "</div>"
   ]
  },
  {
   "cell_type": "code",
   "execution_count": null,
   "id": "8e6a6b39-fbd7-4376-a9c3-666413068902",
   "metadata": {
    "tags": []
   },
   "outputs": [],
   "source": [
    "# Set file location based on platform. \n",
    "platstring = platform.platform()\n",
    "if ('Darwin' in platstring) or ('macOS' in platstring):\n",
    "    # macOS \n",
    "    data_root = \"/Volumes/Brain2024/\"\n",
    "elif 'Windows'  in platstring:\n",
    "    # Windows (replace with the drive letter of USB drive)\n",
    "    data_root = \"E:/\"\n",
    "elif ('amzn' in platstring):\n",
    "    # then on Code Ocean\n",
    "    data_root = \"/data/\"\n",
    "else:\n",
    "    # then your own linux platform\n",
    "    # EDIT location where you mounted hard drive\n",
    "    data_root = \"/media/$USERNAME/Brain2024/\""
   ]
  },
  {
   "cell_type": "code",
   "execution_count": null,
   "id": "b2a2d522-99c0-43ec-87fc-5f9b07f6f365",
   "metadata": {
    "tags": []
   },
   "outputs": [],
   "source": [
    "# an 'arbitrarily' selected session\n",
    "session = '661398_2023-04-03_15-47-29'\n",
    "session_directory = os.path.join(data_root,f'SWDB 2024 CTLUT data/ecephys_{session}_nwb')\n",
    "\n",
    "nwb_file = os.path.join(session_directory, f'ecephys_{session}_experiment1_recording1.nwb.zarr')\n",
    "io = NWBZarrIO(nwb_file, \"r\")\n",
    "nwbfile_read = io.read()"
   ]
  },
  {
   "cell_type": "markdown",
   "id": "ec179a75-454a-4c2e-b371-9eb660df811f",
   "metadata": {},
   "source": [
    "You can use the **nwbwidgets** module to visually explore the contents of an nwb file."
   ]
  },
  {
   "cell_type": "code",
   "execution_count": null,
   "id": "1cb973d7-d704-4a32-916f-adf5e373a225",
   "metadata": {
    "tags": []
   },
   "outputs": [],
   "source": [
    "from nwbwidgets import nwb2widget\n",
    "nwb2widget(nwbfile_read)"
   ]
  },
  {
   "cell_type": "markdown",
   "id": "28bfd87d-dda0-47ee-aecd-5da80dffc3c9",
   "metadata": {},
   "source": [
    "<div style=\"border-left: 3px solid #000; padding: 1px; padding-left: 10px; background: #F0FAFF; \">\n",
    "   \n",
    "## Load the units table\n",
    "\n",
    "</div>"
   ]
  },
  {
   "cell_type": "markdown",
   "id": "83dd580c-e9ad-44ff-b0f1-b2d6e214b710",
   "metadata": {},
   "source": [
    "<div style=\"border-left: 3px solid #000; padding: 1px; padding-left: 10px; background: #F0FAFF; \">\n",
    "   \n",
    "The units table contains all the \"neurons\" that were detected by the spike sorter (in this case, Kilosort 2.5). We usually refer to them as \"units\" because we can't actually be completely certain that the spike sorter output corresponds 1-to-1 to the actual neurons that were present at the time of the recording: this is just our best guess!\n",
    "\n",
    "</div>"
   ]
  },
  {
   "cell_type": "code",
   "execution_count": null,
   "id": "14955fe1-c821-4990-8985-3bfd8f87b5b8",
   "metadata": {
    "tags": []
   },
   "outputs": [],
   "source": [
    "units = nwbfile_read.units[:]\n",
    "units.head()"
   ]
  },
  {
   "cell_type": "code",
   "execution_count": null,
   "id": "7ef026e1-ecc5-4960-898f-a6d3c62e97b9",
   "metadata": {
    "tags": []
   },
   "outputs": [],
   "source": [
    "units.columns"
   ]
  },
  {
   "cell_type": "markdown",
   "id": "e090e96e-2871-4d43-8914-98c09a857451",
   "metadata": {
    "tags": []
   },
   "source": [
    "<div style=\"border-left: 3px solid #000; padding: 1px; padding-left: 10px; background: #F0FAFF; \">\n",
    "   \n",
    "You may notice this units table has a lot of columns! Many of these are quality metrics or laser response metrics, which are more fully explained in the databook. You can use these to filter out units that are unlikely to be real neurons or units whose data is too noisy for analysis. Among the most interesting columns is the **spike_times** column, which tells us every time point when this \"neuron\" fired an \"action potential.\"\n",
    "\n",
    "</div>"
   ]
  },
  {
   "cell_type": "markdown",
   "id": "e64a94b3-c37e-4c88-b7f4-bacb09a591cd",
   "metadata": {},
   "source": [
    "<div style=\"border-left: 3px solid #000; padding: 1px; padding-left: 10px; background: #F0FAFF; \">\n",
    "   \n",
    "Let's also take a look at the experimental epochs that were present in this session.\n",
    "\n",
    "</div>"
   ]
  },
  {
   "cell_type": "code",
   "execution_count": null,
   "id": "dc5f7a7b-22bd-4d80-bfd0-081c076c4b31",
   "metadata": {
    "tags": []
   },
   "outputs": [],
   "source": [
    "nwbfile_read.epochs[:]"
   ]
  },
  {
   "cell_type": "markdown",
   "id": "a56f7af8-64ab-4f0a-af67-595978feee29",
   "metadata": {},
   "source": [
    "<div style=\"border-left: 3px solid #000; padding: 1px; padding-left: 10px; background: #F0FAFF; \">\n",
    "   \n",
    "We see three epochs: a pre-stimulus time period where spontaneous activity was recorded, a stimulus period where laser presentations took place in order to identify taed neurons, and a very short post-stimulus period that is basically just the amount of time it took to shut down the experiment.\n",
    "\n",
    "</div>"
   ]
  },
  {
   "cell_type": "markdown",
   "id": "edb7b688-b18c-4a02-aded-47e361e7b577",
   "metadata": {},
   "source": [
    "<div style=\"border-left: 3px solid #000; padding: 1px; padding-left: 10px; background: #F0FAFF; \">\n",
    "   \n",
    "Let's try plotting all the units in a raster plot, to see what activity looked like durin the experiment!\n",
    "\n",
    "</div>"
   ]
  },
  {
   "cell_type": "code",
   "execution_count": null,
   "id": "254960f7-95ed-4488-a517-03b5d1ca68cc",
   "metadata": {
    "tags": []
   },
   "outputs": [],
   "source": [
    "import numpy as np\n",
    "import matplotlib.pyplot as plt\n",
    "import matplotlib.patches as patches\n",
    "%matplotlib inline\n",
    "\n",
    "exp_start_time = nwbfile_read.epochs.start_time[0]\n",
    "exp_stop_time = nwbfile_read.epochs.stop_time[2]\n",
    "start_time_laser = nwbfile_read.epochs.start_time[1]\n",
    "stop_time_laser = nwbfile_read.epochs.stop_time[1]\n",
    "\n",
    "for unit_id, unit_row in units.iterrows():\n",
    "    unit_spiketimes = unit_row.spike_times\n",
    "    plt.plot(unit_spiketimes, np.tile(unit_id, len(unit_spiketimes)), 'k.', ms=1, alpha=0.03)\n",
    "\n",
    "# add a shaded bit to indicate the laser presentation epoch\n",
    "ax = plt.gca()\n",
    "yLims = [0, unit_id]\n",
    "plt.ylim(yLims)\n",
    "plt.xlim([exp_start_time, exp_stop_time])\n",
    "rect = patches.Rectangle((start_time_laser, yLims[0]), stop_time_laser - start_time_laser, yLims[1] - yLims[0], linewidth=1, edgecolor='tomato', facecolor='tomato', alpha=0.35, clip_on=False)\n",
    "ax.add_patch(rect)\n",
    "\n",
    "plt.xlabel('Time (s)')\n",
    "plt.ylabel('Unit ID')"
   ]
  },
  {
   "cell_type": "markdown",
   "id": "32b27bd0-a4d3-42c3-a38a-f1e99ebea63a",
   "metadata": {},
   "source": [
    "<div style=\"border-left: 3px solid #000; padding: 1px; padding-left: 10px; background: #F0FAFF; \">\n",
    "   \n",
    "You can see that unit activity increases a lot during the laser presentation epoch, which makes sense: you're shining lasers into a mouse's brain! To get a better read on what the units are doing in more natural circumstances, let's take a look at the pre-laser-stimulation activity:\n",
    "\n",
    "</div>"
   ]
  },
  {
   "cell_type": "code",
   "execution_count": null,
   "id": "bf6dd797-678b-4ff7-a4c2-f2a906a74257",
   "metadata": {
    "tags": []
   },
   "outputs": [],
   "source": [
    "start_time = nwbfile_read.epochs.start_time[0]\n",
    "stop_time = nwbfile_read.epochs.stop_time[0]\n",
    "\n",
    "for unit_id, unit_row in units.iterrows():\n",
    "    unit_spiketimes = unit_row.spike_times\n",
    "    pre_stim_spiketimes = unit_spiketimes[unit_spiketimes<stop_time]\n",
    "    plt.plot(pre_stim_spiketimes, np.tile(unit_id, len(pre_stim_spiketimes)), 'k.', ms=1, alpha=0.1)\n",
    "    \n",
    "plt.xlabel('Time (s)')\n",
    "plt.ylabel('Unit ID')"
   ]
  },
  {
   "cell_type": "markdown",
   "id": "ca3602af-787b-439c-90f7-b906840cf36d",
   "metadata": {},
   "source": [
    "<div style=\"border-left: 3px solid #000; padding: 1px; padding-left: 10px; background: #F0FAFF; \">\n",
    "   \n",
    "However, a lot of these \"neurons\" are probably noise or artifacts. We can use some of the quality metrics contained in the units table to filter out some of the \"bad\" \"neurons.\" A common way to curate units is by the amount of ISI (interspike interval) violations. Neurons physiologically can not spike more often than every 2 ms, so a high ratio of \"spikes\" that happen less than 2 ms apart is a good indicator that this unit is not a real neuron (or, at least, not a *single* neuron).\n",
    "\n",
    "Another way units are curated is by visually inspecting the spike waveforms to determine if they look like action potentials or just electrical noise. This table contains the results on someone's manual curation of the waveforms in the column *noise_label*.\n",
    "\n",
    "</div>"
   ]
  },
  {
   "cell_type": "code",
   "execution_count": null,
   "id": "c39b81b9-b8c4-43ff-aeb5-92338c318a9e",
   "metadata": {
    "tags": []
   },
   "outputs": [],
   "source": [
    "# query the units table to get units with good waveforms and low ISI violations!\n",
    "good_units = units.query(\"isi_violations_ratio < 0.5 and noise_label == 'good'\")\n",
    "\n",
    "# and now plot only the \"good\" units\n",
    "for unit_id, unit_row in good_units.iterrows():\n",
    "    unit_spiketimes = unit_row.spike_times\n",
    "    pre_stim_spiketimes = unit_spiketimes[unit_spiketimes<stop_time]\n",
    "    plt.plot(pre_stim_spiketimes, np.tile(unit_id, len(pre_stim_spiketimes)), 'k.', ms=1, alpha=0.1)\n",
    "    \n",
    "plt.xlabel('Time (s)')\n",
    "plt.ylabel('Unit ID')"
   ]
  },
  {
   "cell_type": "markdown",
   "id": "59cd1def-91a6-44ce-aa01-4a897c8c2895",
   "metadata": {},
   "source": [
    "<div style=\"background: #DFF0D8; border-radius: 3px; padding: 10px;\">\n",
    "\n",
    "**Task 1**: The most common standard QC criteria used at the Allen Institute are isi_violations_ratio < 0.5, amplitude_cutoff < 0.1, and presense_ratio > 0.8. Try querying for all three of these criteria and plotting the resulting *really* good units!\n",
    "\n",
    "</div>"
   ]
  },
  {
   "cell_type": "markdown",
   "id": "a2b49734-abfa-42da-b7be-6574e77c5703",
   "metadata": {},
   "source": [
    "<div style=\"border-left: 3px solid #000; padding: 1px; padding-left: 10px; background: #F0FAFF; \">\n",
    "   \n",
    "Many of these nwb files also contain units from multiple probes concatenated together. Let's see how many probes were used in this recording.\n",
    "\n",
    "</div>"
   ]
  },
  {
   "cell_type": "code",
   "execution_count": null,
   "id": "41f7e258-d9bc-4711-aeb5-80819582a952",
   "metadata": {
    "tags": []
   },
   "outputs": [],
   "source": [
    "probes = np.unique(units.device_name)\n",
    "probes"
   ]
  },
  {
   "cell_type": "markdown",
   "id": "f8e910d1-2920-40ad-b7e6-ac7ad787184e",
   "metadata": {},
   "source": [
    "<div style=\"border-left: 3px solid #000; padding: 1px; padding-left: 10px; background: #F0FAFF; \">\n",
    "   \n",
    "It might be more useful to have separate plots for the two probes.\n",
    "\n",
    "</div>"
   ]
  },
  {
   "cell_type": "code",
   "execution_count": null,
   "id": "496456b6-4af7-4bf9-90ac-3ab8763249f4",
   "metadata": {
    "tags": []
   },
   "outputs": [],
   "source": [
    "for ind_probe, probe in enumerate(probes):\n",
    "    plt.subplot(1,2,ind_probe+1)\n",
    "    this_probe_units = good_units.query(\"device_name == @probe\")\n",
    "    \n",
    "    for unit_id, unit_row in this_probe_units.iterrows():\n",
    "        unit_spiketimes = unit_row.spike_times\n",
    "        pre_stim_spiketimes = unit_spiketimes[unit_spiketimes<stop_time]\n",
    "        plt.plot(pre_stim_spiketimes, np.tile(unit_id, len(pre_stim_spiketimes)), 'k.', ms=1, alpha=0.1)\n",
    "        plt.title(probe)"
   ]
  },
  {
   "cell_type": "markdown",
   "id": "f7038c7f-b019-4b94-87c8-87078d4a0c05",
   "metadata": {},
   "source": [
    "<div style=\"background: #DFF0D8; border-radius: 3px; padding: 10px;\">\n",
    "\n",
    "**Task 2**: The *peak_channel* column contains the electrode closest to the unit, as determined by the peak waveform. This gives us a location for the unit. Try plotting the above rasters with *peak_channel* as the y-axis rather than *unit_id*, which is assigned somewhat arbitrarily!\n",
    "\n",
    "</div>"
   ]
  },
  {
   "cell_type": "markdown",
   "id": "f9c1c8c5-424b-47d1-956c-e1ba6576ac7a",
   "metadata": {},
   "source": [
    "<div style=\"border-left: 3px solid #000; padding: 1px; padding-left: 10px; background: #F0FAFF; \">\n",
    "   \n",
    "## Identify tagged units\n",
    "\n",
    "</div>"
   ]
  },
  {
   "cell_type": "markdown",
   "id": "6dc15eb6-54df-4ab7-8d8b-14ab3a64e548",
   "metadata": {},
   "source": [
    "<div style=\"border-left: 3px solid #000; padding: 1px; padding-left: 10px; background: #F0FAFF; \">\n",
    "   \n",
    "During this experiment, known cell types were identified by their responses to pulses of laser. You can learn more about this technique in the databook (https://allenswdb.github.io/background/Optotagging.html)! The units table contains laser response metrics for every units, as well as a `predicted_cell_type` label. Let's try filtering the units table by `predicted_cell_type`!\n",
    "\n",
    "</div>"
   ]
  },
  {
   "cell_type": "code",
   "execution_count": null,
   "id": "0124a4b7-d816-4db9-9517-2a6bd89a80e4",
   "metadata": {
    "tags": []
   },
   "outputs": [],
   "source": [
    "np.unique(units.predicted_cell_type)"
   ]
  },
  {
   "cell_type": "markdown",
   "id": "4f9fc4b8-65ec-4ca9-aaf0-401b09cd6210",
   "metadata": {},
   "source": [
    "<div style=\"border-left: 3px solid #000; padding: 1px; padding-left: 10px; background: #F0FAFF; \">\n",
    "   \n",
    "This experiment was tagging D1 and D2 medium spiny neurons in the striatum! We can filter the units table for units for which we have a predicted cell type. Note that just because a unit is labeled as \"untagged,\" that does not guarantee it *isn't* a D1 or D2 cell. We just don't know what it is.\n",
    "\n",
    "</div>"
   ]
  },
  {
   "cell_type": "code",
   "execution_count": null,
   "id": "2d73186c-d307-40de-983a-405b7a3eb2f0",
   "metadata": {
    "tags": []
   },
   "outputs": [],
   "source": [
    "tagged_units = units.query(\"predicted_cell_type != 'untagged'\")\n",
    "tagged_units.head()"
   ]
  },
  {
   "cell_type": "markdown",
   "id": "bf7e3f2c-168d-45cf-8797-c5bb437ed1e8",
   "metadata": {},
   "source": [
    "<div style=\"border-left: 3px solid #000; padding: 1px; padding-left: 10px; background: #F0FAFF; \">\n",
    "   \n",
    "Let's see what the activity of just these units looks like!\n",
    "\n",
    "</div>"
   ]
  },
  {
   "cell_type": "code",
   "execution_count": null,
   "id": "71eb2905-285b-47a6-acc9-3ccc076215b7",
   "metadata": {
    "tags": []
   },
   "outputs": [],
   "source": [
    "cell_type_colors = {'D1' : 'skyblue', 'D2' : 'tomato'}\n",
    "\n",
    "for ind, (unit_id, unit_row) in enumerate(tagged_units.iterrows()):\n",
    "    unit_spiketimes = unit_row.spike_times\n",
    "    pre_stim_spiketimes = unit_spiketimes[unit_spiketimes<stop_time]\n",
    "\n",
    "    # let's try making a psth of the response instead of a raster!\n",
    "    bin_length = 5\n",
    "    time_bins = np.arange(np.floor(start_time),np.ceil(stop_time),bin_length)\n",
    "    h,v = np.histogram(unit_spiketimes, time_bins)\n",
    "    plt.plot(v[:-1],h/bin_length, color=cell_type_colors[unit_row.predicted_cell_type])\n",
    "    \n",
    "plt.xlabel('Time (s)')\n",
    "plt.ylabel('Firing rate (spikes/s)')"
   ]
  },
  {
   "cell_type": "markdown",
   "id": "919907c4-78a6-465f-8aec-72330e21a339",
   "metadata": {
    "tags": []
   },
   "source": [
    "<div style=\"background: #DFF0D8; border-radius: 3px; padding: 10px;\">\n",
    "\n",
    "**Task 3**: cell type predictions are based only on the unit's laser reponses, not the quality of the unit. There's a good chance many of these are laser artifacts or other types of noise or multiunit activity. Try further filtering the units table for tagged, *quality* units.\n",
    "\n",
    "</div>"
   ]
  },
  {
   "cell_type": "markdown",
   "id": "e148243e-762a-457e-a4d2-b9134a0750d2",
   "metadata": {},
   "source": [
    "<div style=\"border-left: 3px solid #000; padding: 1px; padding-left: 10px; background: #F0FAFF; \">\n",
    "   \n",
    "## Load running speed\n",
    "\n",
    "</div>"
   ]
  },
  {
   "cell_type": "markdown",
   "id": "3671c31e-7054-4102-8b2e-bf86304bae4c",
   "metadata": {},
   "source": [
    "<div style=\"border-left: 3px solid #000; padding: 1px; padding-left: 10px; background: #F0FAFF; \">\n",
    "   \n",
    "Some behavioral data was collected during this experiment in addition to the physiology. For instance, the mouse was on a running wheel with an encoder, and so we recorded the mouse's running speed for the entire experiment. Let's try loading that data!\n",
    "\n",
    "</div>"
   ]
  },
  {
   "cell_type": "code",
   "execution_count": null,
   "id": "a5447c53-ad4a-4dea-bcc7-8de8cf737e35",
   "metadata": {
    "tags": []
   },
   "outputs": [],
   "source": [
    "running = nwbfile_read.processing['behavior']['BehavioralTimeSeries']['linear velocity']\n",
    "running_speed = np.array(running.data)\n",
    "running_timestamps = np.array(running.timestamps)"
   ]
  },
  {
   "cell_type": "code",
   "execution_count": null,
   "id": "176c72f5-5bcc-4a54-a411-a57a8fc1a41e",
   "metadata": {
    "tags": []
   },
   "outputs": [],
   "source": [
    "# plot the running speed for the same time period as the rasters above\n",
    "pre_stim_timestamps = running_timestamps[running_timestamps < stop_time]\n",
    "pre_stim_speed = running_speed[running_timestamps < stop_time]\n",
    "\n",
    "plt.plot(pre_stim_timestamps, pre_stim_speed)"
   ]
  },
  {
   "cell_type": "markdown",
   "id": "6d38e4f7-d8d9-4ff7-aa41-83842525c5ba",
   "metadata": {},
   "source": [
    "<div style=\"background: #DFF0D8; border-radius: 3px; padding: 10px;\">\n",
    "\n",
    "**Task 4**: Try plotting the running speed and the units raster in the same figure with a shared x-axis. Does any of the neuronal activity seem related to the mouse's movement?\n",
    "\n",
    "</div>"
   ]
  },
  {
   "cell_type": "markdown",
   "id": "bb5335fa-06e6-446a-92cc-c9c15b051d90",
   "metadata": {},
   "source": [
    "<div style=\"background: #DFF0D8; border-radius: 3px; padding: 10px;\">\n",
    "\n",
    "***Exercise 1***\n",
    "\n",
    "Pick a session from the cell type lookup table data set and identify all the quality, tagged units. Do the units of different cell types differ from each other in any simple metric, such as average firing rate during the pre-stimulus period? \n",
    "\n",
    "</div>"
   ]
  },
  {
   "cell_type": "markdown",
   "id": "841fa964-579a-4b83-a0bb-c329fcc62f67",
   "metadata": {},
   "source": [
    "<div style=\"background: #DFF0D8; border-radius: 3px; padding: 10px;\">\n",
    "\n",
    "***Exercise 2***\n",
    "\n",
    "Identify quality, tagged units of the same cell type from multiple sessions. Is the activity of this cell type consistent across sessions? \n",
    "\n",
    "</div>"
   ]
  },
  {
   "cell_type": "markdown",
   "id": "154b28f2-f5d6-45d2-85e8-b43d614a2b13",
   "metadata": {},
   "source": [
    "<div style=\"background: #DFF0D8; border-radius: 3px; padding: 10px;\">\n",
    "\n",
    "***Exercise 3***\n",
    "\n",
    "Convince yourself a tagged, quality unit really is tagged by creating a raster plot of its response to laser stimulation. You will need the trials table for this to get the onsets and identities of the laser trials!  \n",
    "\n",
    "</div>"
   ]
  },
  {
   "cell_type": "code",
   "execution_count": null,
   "id": "d90a28f7-739a-4a31-9c47-825d4856e329",
   "metadata": {},
   "outputs": [],
   "source": []
  }
 ],
 "metadata": {
  "kernelspec": {
   "display_name": "Python 3 (ipykernel)",
   "language": "python",
   "name": "python3"
  },
  "language_info": {
   "codemirror_mode": {
    "name": "ipython",
    "version": 3
   },
   "file_extension": ".py",
   "mimetype": "text/x-python",
   "name": "python",
   "nbconvert_exporter": "python",
   "pygments_lexer": "ipython3",
   "version": "3.9.19"
  }
 },
 "nbformat": 4,
 "nbformat_minor": 5
}
