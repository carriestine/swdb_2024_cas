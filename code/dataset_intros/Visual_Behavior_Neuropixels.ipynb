{
 "cells": [
  {
   "cell_type": "markdown",
   "id": "68a28c4c-562f-4185-b675-cc8179f740e8",
   "metadata": {},
   "source": [
    "![cropped-SummerWorkshop_Header.png](resources/banner.jpg)"
   ]
  },
  {
   "cell_type": "markdown",
   "id": "582f3c93-a486-4d2d-a294-ef5bf49de584",
   "metadata": {},
   "source": [
    "<h1 align=\"center\">Allen Brain Observatory Visual Behavior Neuropixels </h1> \n",
    "<h2 align=\"center\"> SWDB 2024 - Day 1 </h2> \n",
    "<h3 align=\"center\"> Afternoon Session </h3> "
   ]
  },
  {
   "cell_type": "markdown",
   "id": "4e6ab3b9-a3a9-44c7-80b5-e0b8103af48b",
   "metadata": {},
   "source": [
    "<div style=\"border-left: 3px solid #000; padding: 1px; padding-left: 10px; background: #F0FAFF; \">\n",
    "   \n",
    "**Databook**\n",
    "\n",
    "The databook is your one-stop-shop for understanding the various dimensions of this dataset, the methods used, and how to access the data that you are interested in. \n",
    "\n",
    "You can find the pages for the Visual Behavior Ophys dataset here: https://allenswdb.github.io/physiology/ephys/visual-behavior/VB-Neuropixels.html\n",
    "\n",
    "![vbo_databook.png](resources/databook_vbnp.png)\n",
    "\n",
    "</div>"
   ]
  },
  {
   "cell_type": "code",
   "execution_count": null,
   "id": "0a6e8b5d-68e3-4e3b-9969-a08f543f8eff",
   "metadata": {
    "tags": []
   },
   "outputs": [],
   "source": [
    "import numpy as np\n",
    "import matplotlib.pyplot as plt\n",
    "import pandas as pd\n",
    "from allensdk.brain_observatory.behavior.behavior_project_cache import VisualBehaviorNeuropixelsProjectCache\n",
    "\n",
    "pd.set_option('display.max_columns', None)\n",
    "%matplotlib inline"
   ]
  },
  {
   "cell_type": "code",
   "execution_count": null,
   "id": "376e61c2-8fef-4616-b138-ab6f413cbc5e",
   "metadata": {
    "tags": []
   },
   "outputs": [],
   "source": [
    "import warnings\n",
    "warnings.filterwarnings('ignore')"
   ]
  },
  {
   "cell_type": "code",
   "execution_count": null,
   "id": "1e1163a1-f233-420d-8903-bdffca830797",
   "metadata": {
    "tags": []
   },
   "outputs": [],
   "source": [
    "import platform\n",
    "platstring = platform.platform()\n",
    "\n",
    "if ('Darwin' in platstring) or ('macOS' in platstring):\n",
    "    # macOS \n",
    "    data_root = \"/Volumes/Brain2024/\"\n",
    "elif 'Windows'  in platstring:\n",
    "    # Windows (replace with the drive letter of USB drive)\n",
    "    data_root = \"E:/\"\n",
    "elif ('amzn' in platstring):\n",
    "    # then on CodeOcean\n",
    "    data_root = \"/data/\"\n",
    "else:\n",
    "    # then your own linux platform\n",
    "    # EDIT location where you mounted hard drive\n",
    "    data_root = \"/media/$USERNAME/Brain2024/\""
   ]
  },
  {
   "cell_type": "markdown",
   "id": "9c2713ef-9106-4371-94b2-2b6747dd3ec6",
   "metadata": {},
   "source": [
    "<div style=\"border-left: 3px solid #000; padding: 1px; padding-left: 10px; background: #F0FAFF; \">\n",
    "   \n",
    "# Outline\n",
    "\n",
    "</div>"
   ]
  },
  {
   "cell_type": "markdown",
   "id": "da032a35-19cf-4019-84e5-c95ce23b07b4",
   "metadata": {},
   "source": [
    "<div style=\"border-left: 3px solid #000; padding: 1px; padding-left: 10px; background: #F0FAFF; \">\n",
    "   \n",
    "## VBN data structures\n",
    "#### 1. VBN cache object\n",
    "#### 2. \"Sessions\" table\n",
    "#### 3. \"Units\" table\n",
    "#### 4. Session object\n",
    "#### 5. \"Stimulus\" table\n",
    "#### 6. \"Trials\" table\n",
    "\n",
    "</div>"
   ]
  },
  {
   "cell_type": "markdown",
   "id": "2b094140-d8a6-4a90-a8bb-e097bafda439",
   "metadata": {},
   "source": [
    "<div style=\"border-left: 3px solid #000; padding: 1px; padding-left: 10px; background: #F0FAFF; \">\n",
    "   \n",
    "# 1. VBN cache object\n",
    "\n",
    "</div>"
   ]
  },
  {
   "cell_type": "markdown",
   "id": "6cc13473-e205-4932-90f9-798f46efab3c",
   "metadata": {},
   "source": [
    "<div style=\"border-left: 3px solid #000; padding: 1px; padding-left: 10px; background: #F0FAFF; \">\n",
    "   \n",
    "* Access to metadata tables describing the entire dataset\n",
    "* Tools for downloading data (as NWB files)\n",
    "* Tools for instantiating \"Session\" objects from NWB files\n",
    "\n",
    "</div>"
   ]
  },
  {
   "cell_type": "code",
   "execution_count": null,
   "id": "91d3e266-f04e-49b4-9b4f-27a105333c68",
   "metadata": {
    "tags": []
   },
   "outputs": [],
   "source": [
    "cache = VisualBehaviorNeuropixelsProjectCache.from_local_cache(cache_dir=data_root, use_static_cache=True)"
   ]
  },
  {
   "cell_type": "markdown",
   "id": "9d2d15eb-3af5-4c98-9f7d-aa7841e54f83",
   "metadata": {},
   "source": [
    "<div style=\"border-left: 3px solid #000; padding: 1px; padding-left: 10px; background: #F0FAFF; \">\n",
    "   \n",
    "# 2. \"Sessions\" table\n",
    "\n",
    "</div>"
   ]
  },
  {
   "cell_type": "code",
   "execution_count": null,
   "id": "d51865ee-7588-4f53-b43c-0784b24a52a3",
   "metadata": {
    "tags": []
   },
   "outputs": [],
   "source": [
    "sessions = cache.get_ecephys_session_table()"
   ]
  },
  {
   "cell_type": "code",
   "execution_count": null,
   "id": "6e28fe19-9283-46f6-b3ab-2d49125a43f6",
   "metadata": {
    "tags": []
   },
   "outputs": [],
   "source": [
    "sessions.head()"
   ]
  },
  {
   "cell_type": "markdown",
   "id": "bfc4884c-e322-418c-b373-808fc053cd4d",
   "metadata": {
    "tags": []
   },
   "source": [
    "<div style=\"border-left: 3px solid #000; padding: 1px; padding-left: 10px; background: #F0FAFF; \">\n",
    "   \n",
    "## How many experimental sessions in dataset?\n",
    "\n",
    "</div>"
   ]
  },
  {
   "cell_type": "code",
   "execution_count": null,
   "id": "88d9e24b-20cb-45fd-8f7e-9fa51dd68b32",
   "metadata": {
    "tags": []
   },
   "outputs": [],
   "source": [
    "len(sessions)"
   ]
  },
  {
   "cell_type": "code",
   "execution_count": null,
   "id": "1892bf7e-325f-47b5-9141-4a92bf5c7c91",
   "metadata": {
    "tags": []
   },
   "outputs": [],
   "source": [
    "sessions.genotype.value_counts()"
   ]
  },
  {
   "cell_type": "markdown",
   "id": "7ff7c1ef-8638-4340-b716-a733952d7456",
   "metadata": {},
   "source": [
    "<div style=\"border-left: 3px solid #000; padding: 1px; padding-left: 10px; background: #F0FAFF; \">\n",
    "   \n",
    "## How many units recorded per experiment?\n",
    "\n",
    "</div>"
   ]
  },
  {
   "cell_type": "code",
   "execution_count": null,
   "id": "cb279283-775a-4f94-a677-242c53dd17ed",
   "metadata": {
    "tags": []
   },
   "outputs": [],
   "source": [
    "plt.hist(sessions.unit_count)\n",
    "plt.xlabel('# of units recorded per session')\n",
    "plt.ylabel('# of sessions')"
   ]
  },
  {
   "cell_type": "markdown",
   "id": "457abd61-09a6-41b4-bacb-24ea44c16926",
   "metadata": {
    "tags": []
   },
   "source": [
    "<div style=\"border-left: 3px solid #000; padding: 1px; padding-left: 10px; background: #F0FAFF; \">\n",
    "   \n",
    "# 3. \"Units\" table\n",
    "\n",
    "</div>"
   ]
  },
  {
   "cell_type": "code",
   "execution_count": null,
   "id": "a3087098-e84d-4512-8727-47a1d8d56255",
   "metadata": {
    "tags": []
   },
   "outputs": [],
   "source": [
    "units = cache.get_unit_table()"
   ]
  },
  {
   "cell_type": "code",
   "execution_count": null,
   "id": "cad0e834-ebc5-47e1-b532-979855f0ba21",
   "metadata": {
    "tags": []
   },
   "outputs": [],
   "source": [
    "units.head()"
   ]
  },
  {
   "cell_type": "markdown",
   "id": "3f291519-d5a3-4619-9aec-048f8af210fa",
   "metadata": {
    "tags": []
   },
   "source": [
    "<div style=\"border-left: 3px solid #000; padding: 1px; padding-left: 10px; background: #F0FAFF; \">\n",
    "\n",
    "## How many units are in dataset?\n",
    "\n",
    "</div>"
   ]
  },
  {
   "cell_type": "code",
   "execution_count": null,
   "id": "8cd28e29-b2f6-4e07-8c5a-79ac1b242415",
   "metadata": {
    "tags": []
   },
   "outputs": [],
   "source": [
    "units.shape"
   ]
  },
  {
   "cell_type": "code",
   "execution_count": null,
   "id": "61c5abfe-4b70-4d0a-b8a2-f97a4d39b2de",
   "metadata": {
    "tags": []
   },
   "outputs": [],
   "source": [
    "# Select 'good' quality units\n",
    "units = units[units.quality=='good']"
   ]
  },
  {
   "cell_type": "code",
   "execution_count": null,
   "id": "9282c829-ca16-4f90-a7df-343c93619bc5",
   "metadata": {
    "tags": []
   },
   "outputs": [],
   "source": [
    "units.shape"
   ]
  },
  {
   "cell_type": "markdown",
   "id": "09882c44-d499-4e90-906f-6c54ee9d388c",
   "metadata": {
    "tags": []
   },
   "source": [
    "<div style=\"border-left: 3px solid #000; padding: 1px; padding-left: 10px; background: #F0FAFF; \">\n",
    "   \n",
    "## Which brain regions are recorded?\n",
    "\n",
    "</div>"
   ]
  },
  {
   "cell_type": "code",
   "execution_count": null,
   "id": "57a4e91c-7ee2-4aa4-9d74-465721b052fa",
   "metadata": {
    "tags": []
   },
   "outputs": [],
   "source": [
    "regions = units.structure_acronym.value_counts()\n",
    "regions"
   ]
  },
  {
   "cell_type": "code",
   "execution_count": null,
   "id": "b96eb25d-0d86-4421-b0c2-3a7b5db430ab",
   "metadata": {
    "tags": []
   },
   "outputs": [],
   "source": [
    "regions[:25].plot.bar()\n",
    "plt.xlabel('Brain regions')\n",
    "plt.ylabel('# of units')"
   ]
  },
  {
   "cell_type": "markdown",
   "id": "e4a94fa7-4ab4-4fb2-9b3c-0297771e4c90",
   "metadata": {},
   "source": [
    "<div style=\"border-left: 3px solid #000; padding: 1px; padding-left: 10px; background: #F0FAFF; \">\n",
    "   \n",
    "## Select units in visual cortex\n",
    "\n",
    "</div>"
   ]
  },
  {
   "cell_type": "code",
   "execution_count": null,
   "id": "56ef4c59-e306-4a46-b290-4f636308b460",
   "metadata": {
    "tags": []
   },
   "outputs": [],
   "source": [
    "v_units = units[units.structure_acronym.str.contains('VIS')]   \n",
    "v_units.shape"
   ]
  },
  {
   "cell_type": "markdown",
   "id": "ab299b88-9ea3-4977-a514-bb9953582c82",
   "metadata": {
    "tags": []
   },
   "source": [
    "<div style=\"border-left: 3px solid #000; padding: 1px; padding-left: 10px; background: #F0FAFF; \">\n",
    "   \n",
    "## Select Broad and Narrow spiking units\n",
    "#### aka Regular and Fast spiking units\n",
    "\n",
    "</div>"
   ]
  },
  {
   "cell_type": "code",
   "execution_count": null,
   "id": "f6926729-8813-46f1-9dd4-97aff7e3e731",
   "metadata": {
    "tags": []
   },
   "outputs": [],
   "source": [
    "plt.hist(v_units.waveform_duration,bins=25,range=(0,1));\n",
    "\n",
    "plt.xlabel(\"spike duration (ms)\")\n",
    "plt.ylabel(\"# of units in visual cortex\")"
   ]
  },
  {
   "cell_type": "code",
   "execution_count": null,
   "id": "81102303-55ef-47e3-8017-c576da8247f3",
   "metadata": {
    "tags": []
   },
   "outputs": [],
   "source": [
    "fast_spiking_units = v_units[v_units.waveform_duration < 0.4]"
   ]
  },
  {
   "cell_type": "code",
   "execution_count": null,
   "id": "d4280cce-af61-4e7d-b06a-e5a1e5d2a8d0",
   "metadata": {
    "tags": []
   },
   "outputs": [],
   "source": [
    "plt.hist(fast_spiking_units.waveform_duration,bins=25,range=(0,1));\n",
    "\n",
    "plt.xlabel(\"spike duration (ms)\")\n",
    "plt.ylabel(\"# of units in visual cortex\")"
   ]
  },
  {
   "cell_type": "markdown",
   "id": "0cf4d97f-0d8e-419f-a0c2-bfe9f9ecd7a3",
   "metadata": {
    "tags": []
   },
   "source": [
    "<div style=\"border-left: 3px solid #000; padding: 1px; padding-left: 10px; background: #F0FAFF; \">\n",
    "   \n",
    "# . . . \n",
    "\n",
    "</div>"
   ]
  },
  {
   "cell_type": "markdown",
   "id": "f9bddfb3-1e8c-4c9b-9efe-0b563f244d5a",
   "metadata": {},
   "source": [
    "<div style=\"border-left: 3px solid #000; padding: 1px; padding-left: 10px; background: #F0FAFF; \">\n",
    "   \n",
    "# 4. \"Session\" object: data from single experiment\n",
    "\n",
    "</div>"
   ]
  },
  {
   "cell_type": "code",
   "execution_count": null,
   "id": "a7e5494e-9c9b-46d1-b575-f574c4e8ae47",
   "metadata": {
    "tags": []
   },
   "outputs": [],
   "source": [
    "session_id = 1053941483"
   ]
  },
  {
   "cell_type": "code",
   "execution_count": null,
   "id": "ce51a9d4-db23-42e0-af8a-79271be8cc35",
   "metadata": {
    "tags": []
   },
   "outputs": [],
   "source": [
    "session = cache.get_ecephys_session(session_id)"
   ]
  },
  {
   "cell_type": "markdown",
   "id": "7bb2c023-7bd2-483d-bea8-7d510f14fbe9",
   "metadata": {
    "tags": []
   },
   "source": [
    "<div style=\"border-left: 3px solid #000; padding: 1px; padding-left: 10px; background: #F0FAFF; \">\n",
    "   \n",
    "## Get units table for this one session\n",
    "\n",
    "</div>"
   ]
  },
  {
   "cell_type": "code",
   "execution_count": null,
   "id": "197506e1-f533-4b54-9903-46b5f40cc9d3",
   "metadata": {
    "tags": []
   },
   "outputs": [],
   "source": [
    "units = session.get_units()\n",
    "units.head(2)"
   ]
  },
  {
   "cell_type": "code",
   "execution_count": null,
   "id": "a76c2605-96dd-4ab5-b01c-5cdc874a98f5",
   "metadata": {
    "tags": []
   },
   "outputs": [],
   "source": [
    "# Get channels table -- this tells us the location of every electrode channel\n",
    "channels = session.get_channels()\n",
    "channels.head(2)"
   ]
  },
  {
   "cell_type": "code",
   "execution_count": null,
   "id": "5ddc8783-efba-4258-89e4-e73ca7da3b7d",
   "metadata": {
    "tags": []
   },
   "outputs": [],
   "source": [
    "# Merge channels table into units table using \n",
    "units = units.merge(channels, left_on='peak_channel_id', right_index=True)\n",
    "units.head(2)"
   ]
  },
  {
   "cell_type": "code",
   "execution_count": null,
   "id": "087bdd9a-5fb6-48eb-a0bd-fac02ff1ac71",
   "metadata": {
    "tags": []
   },
   "outputs": [],
   "source": [
    "# Select units that are in visual cortex\n",
    "v_units = units[units.structure_acronym.str.contains('VIS')]"
   ]
  },
  {
   "cell_type": "code",
   "execution_count": null,
   "id": "9af5f10f-883e-4a82-b875-2287705b7943",
   "metadata": {
    "tags": []
   },
   "outputs": [],
   "source": [
    "v_units.structure_acronym.value_counts().plot.bar();"
   ]
  },
  {
   "cell_type": "markdown",
   "id": "92f68889-df04-4b98-93c2-2f9c3f418da9",
   "metadata": {},
   "source": [
    "<div style=\"border-left: 3px solid #000; padding: 1px; padding-left: 10px; background: #F0FAFF; \">\n",
    "   \n",
    "## Make raster plot of one unit's spike train\n",
    "\n",
    "</div>"
   ]
  },
  {
   "cell_type": "code",
   "execution_count": null,
   "id": "b2530043-3473-4fa3-9b52-3dbc986cef60",
   "metadata": {
    "tags": []
   },
   "outputs": [],
   "source": [
    "# Example unit\n",
    "example_unit_id = v_units.index[27]\n",
    "example_unit_id"
   ]
  },
  {
   "cell_type": "code",
   "execution_count": null,
   "id": "d2a3feea-05cb-4202-b9d2-e2e21b9f756f",
   "metadata": {
    "tags": []
   },
   "outputs": [],
   "source": [
    "# Get spike times for example unit\n",
    "example_unit_spike_times = session.spike_times[example_unit_id]\n",
    "example_unit_spike_times.shape"
   ]
  },
  {
   "cell_type": "code",
   "execution_count": null,
   "id": "b97b2b89-9c86-4c22-b023-672c6c932817",
   "metadata": {
    "tags": []
   },
   "outputs": [],
   "source": [
    "# Plot raster\n",
    "plt.eventplot(example_unit_spike_times)\n",
    "plt.xlabel('Seconds');"
   ]
  },
  {
   "cell_type": "code",
   "execution_count": null,
   "id": "202e91d4-b081-4dce-af4e-75b9928ab4a0",
   "metadata": {
    "tags": []
   },
   "outputs": [],
   "source": [
    "# Make raster for shorter segment of time\n",
    "raster_start_time = 407\n",
    "raster_end_time = 427\n",
    "\n",
    "plt.figure(figsize=(11,1))\n",
    "plt.eventplot(example_unit_spike_times,linewidth=0.75)\n",
    "plt.xlim(raster_start_time,raster_end_time)\n",
    "plt.xlabel('Seconds');"
   ]
  },
  {
   "cell_type": "markdown",
   "id": "eee12cdd-b472-4fcb-a8b5-0be6c8a10553",
   "metadata": {},
   "source": [
    "<div style=\"border-left: 3px solid #000; padding: 1px; padding-left: 10px; background: #F0FAFF; \">\n",
    "   \n",
    "## 5. \"Stimulus\" table\n",
    "\n",
    "</div>"
   ]
  },
  {
   "cell_type": "code",
   "execution_count": null,
   "id": "69eb3a76-2f2e-43bf-9a9b-0b4418157a3f",
   "metadata": {
    "tags": []
   },
   "outputs": [],
   "source": [
    "stim_table = session.stimulus_presentations"
   ]
  },
  {
   "cell_type": "code",
   "execution_count": null,
   "id": "3e18a2e8-6c8b-42e2-9fc3-973f83b9e153",
   "metadata": {
    "tags": []
   },
   "outputs": [],
   "source": [
    "stim_table.head()"
   ]
  },
  {
   "cell_type": "code",
   "execution_count": null,
   "id": "ad1e1df4-bf29-4f03-8c93-302aea78bf68",
   "metadata": {
    "tags": []
   },
   "outputs": [],
   "source": [
    "# How many stimulus presentations in session?\n",
    "len(stim_table)"
   ]
  },
  {
   "cell_type": "code",
   "execution_count": null,
   "id": "9247589e-f2e6-443f-880e-13e9d06be21b",
   "metadata": {
    "tags": []
   },
   "outputs": [],
   "source": [
    "# Select stimuli presented during time period in raster plot\n",
    "stim_times = stim_table[(stim_table.start_time>raster_start_time) & (stim_table.start_time<raster_end_time)]\n",
    "stim_times.head()"
   ]
  },
  {
   "cell_type": "markdown",
   "id": "64221cbd-1e3c-413d-ad24-37f7766dcc64",
   "metadata": {},
   "source": [
    "<div style=\"border-left: 3px solid #000; padding: 1px; padding-left: 10px; background: #F0FAFF; \">\n",
    "\n",
    "## Plot stimulus presentations with raster plot\n",
    "\n",
    "</div>"
   ]
  },
  {
   "cell_type": "code",
   "execution_count": null,
   "id": "56477f11-a846-44d7-b4ae-7f07c68b1fa7",
   "metadata": {
    "tags": []
   },
   "outputs": [],
   "source": [
    "# What are the unique stimulus image names\n",
    "unique_stim = stim_times.image_name.unique()\n",
    "print(unique_stim)"
   ]
  },
  {
   "cell_type": "code",
   "execution_count": null,
   "id": "73237e4a-6b5d-4121-879f-fef1812f2c4e",
   "metadata": {
    "tags": []
   },
   "outputs": [],
   "source": [
    "# Map color to each image\n",
    "colors = ['blue','green','purple','gray']\n",
    "color_stim_dict = dict(zip(unique_stim,colors))\n",
    "color_stim_dict"
   ]
  },
  {
   "cell_type": "code",
   "execution_count": null,
   "id": "594b8bcd-cc9c-4143-ab1e-e3cbf758b65b",
   "metadata": {
    "tags": []
   },
   "outputs": [],
   "source": [
    "plt.figure(figsize=(11,1))\n",
    "plt.eventplot(example_unit_spike_times,linewidth=0.75)\n",
    "\n",
    "plt.xlim(raster_start_time,raster_end_time)\n",
    "plt.xlabel('Seconds');\n",
    "\n",
    "for row in stim_times.iterrows():\n",
    "    t_start = row[1].start_time\n",
    "    plt.axvspan(t_start,t_start+0.25,alpha=0.3,color=color_stim_dict[row[1].image_name],lw=0)"
   ]
  },
  {
   "cell_type": "markdown",
   "id": "ab275a99-f55d-4185-802a-22058c46da5c",
   "metadata": {
    "tags": []
   },
   "source": [
    "<div style=\"border-left: 3px solid #000; padding: 1px; padding-left: 10px; background: #F0FAFF; \">\n",
    "   \n",
    "## 6. Behavioral \"Trials\" table\n",
    "\n",
    "</div>"
   ]
  },
  {
   "cell_type": "code",
   "execution_count": null,
   "id": "5bb834a0-0272-49f9-9f7d-a821f8d0620a",
   "metadata": {
    "tags": []
   },
   "outputs": [],
   "source": [
    "trials = session.trials\n",
    "trials.head()"
   ]
  },
  {
   "cell_type": "markdown",
   "id": "4abf09a3-37cc-4762-b157-4dac69462862",
   "metadata": {},
   "source": [
    "<div style=\"border-left: 3px solid #000; padding: 1px; padding-left: 10px; background: #F0FAFF; \">\n",
    "   \n",
    "## Plot behavior trial data on raster plot\n",
    "\n",
    "</div>"
   ]
  },
  {
   "cell_type": "code",
   "execution_count": null,
   "id": "58b37ce9-f20b-4bd1-8a0f-9859267a28ed",
   "metadata": {
    "tags": []
   },
   "outputs": [],
   "source": [
    "# Filter trials that occur during time window in our raster plot above\n",
    "trials_for_plot = trials[(trials.start_time>raster_start_time) & (trials.start_time<raster_end_time)]\n",
    "trials_for_plot"
   ]
  },
  {
   "cell_type": "code",
   "execution_count": null,
   "id": "f751b2e0-1698-4691-8490-d2e6be2ca431",
   "metadata": {
    "tags": []
   },
   "outputs": [],
   "source": [
    "# Get lick times\n",
    "lick_times = trials_for_plot.lick_times.values\n",
    "lick_times = np.concatenate(lick_times) # Flatten array of arrays to 1D array\n",
    "lick_times"
   ]
  },
  {
   "cell_type": "code",
   "execution_count": null,
   "id": "88df94c0-18dd-4036-bf36-bd211aeca7bc",
   "metadata": {
    "tags": []
   },
   "outputs": [],
   "source": [
    "# Get reward times\n",
    "reward_times = trials_for_plot.reward_time.values\n",
    "reward_times"
   ]
  },
  {
   "cell_type": "code",
   "execution_count": null,
   "id": "164ccf98-9a3d-4c31-b67a-697b2111b251",
   "metadata": {
    "tags": []
   },
   "outputs": [],
   "source": [
    "plt.figure(figsize=(11,1))\n",
    "\n",
    "# Plot spike train\n",
    "plt.eventplot(example_unit_spike_times,linewidth=0.75)\n",
    "\n",
    "# Plot stimulus times\n",
    "for row in stim_times.iterrows():\n",
    "    t_start = row[1].start_time\n",
    "    plt.axvspan(t_start,t_start+0.25,alpha=0.3,color=color_stim_dict[row[1].image_name],lw=0)\n",
    "\n",
    "# Plot lick and reward times\n",
    "plt.eventplot(lick_times,lineoffsets=2.5,color='black',linewidth=1)\n",
    "plt.plot(reward_times,np.ones_like(reward_times)*2.5,color='blue',marker='o',linestyle='');\n",
    "\n",
    "# Formatting\n",
    "plt.xlim(raster_start_time,raster_end_time)\n",
    "plt.xlabel('Seconds');"
   ]
  },
  {
   "cell_type": "markdown",
   "id": "a3d8f56f-2f69-40fd-b2f0-4b6c10438755",
   "metadata": {},
   "source": [
    "<div style=\"background: #DFF0D8; border-radius: 3px; padding: 10px;\">\n",
    "\n",
    "***Homework 1***\n",
    "\n",
    "* Working with the example unit above, compute the trial-averaged spike rate in response to each of the 8 images.\n",
    "* Plot with error bars.\n",
    "\n",
    "</div>"
   ]
  },
  {
   "cell_type": "markdown",
   "id": "c4622b4b-5bb6-4b22-9c2a-ed7460bc3fc9",
   "metadata": {},
   "source": [
    "<div style=\"background: #DFF0D8; border-radius: 3px; padding: 10px;\">\n",
    "\n",
    "***Homework 2***\n",
    "\n",
    "* Make raster plots showing the spiking of this unit on each hit versus each miss trial for one of the images.\n",
    "* Is the unit’s response different on hit versus miss trials? If so, why might this be the case?\n",
    "* Does hit versus miss activity vary for the preferred versus non-preferred image?\n",
    "\n",
    "</div>"
   ]
  }
 ],
 "metadata": {
  "kernelspec": {
   "display_name": "Python 3 (ipykernel)",
   "language": "python",
   "name": "python3"
  },
  "language_info": {
   "codemirror_mode": {
    "name": "ipython",
    "version": 3
   },
   "file_extension": ".py",
   "mimetype": "text/x-python",
   "name": "python",
   "nbconvert_exporter": "python",
   "pygments_lexer": "ipython3",
   "version": "3.9.12"
  }
 },
 "nbformat": 4,
 "nbformat_minor": 5
}
